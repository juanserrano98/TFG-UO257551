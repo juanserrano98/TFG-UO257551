# importing pandas
import pandas as pd
import glob as glob
import numpy as np
import matplotlib.pyplot as plt
from scipy.fft import fft, fftfreq

  
#fft variables needed
F = 5000 # Sampling frequency
N = 32768 # Number of samples
SIZE = 32767 #Size of csvs
timestep = 1/F
window = np.hanning(N-1)

#directory
all_files=glob.glob("C:/Users/xuans/OneDrive/Escritorio/CEMENTERA/Motor1_AxeZ_full/AxeZ/16*.csv")
#all_files=glob.glob("C:/Users/xuans/OneDrive/Escritorio/CEMENTERA/python/prueba/165*.csv")

file_list = []#empty array

#fft frequency
fft_freq = fftfreq(32768,d=timestep)
fft_freq = fft_freq[0:int(N/2)]   

for f in all_files:
    #1º leo el csv correspondiente
    data = pd.read_csv(f)
    if data.size == SIZE:
        data = np.concatenate(data.values.tolist(), axis = 0)
        fft_res = fft(data*window)#2º hago fft al csv
        fft_res = np.abs(fft_res[0:int(N/2)])/N*2
        file_list.append(fft_res)#por ultimo introduzco la informacion al nuevo vector"""
    else:
        exit("Tamaño de archivos incorrecto")    
    
#pinto todo

#len(file_list)
for l in file_list:
    plt.plot(fft_freq,l)
    plt.xlim([5, 2500])
    plt.ylim([0, 200])
    plt.xlabel("Frecuencia (Hz)")
    plt.ylabel("Amplitud")
    plt.title("Motor 1, Axe Z: FFT ")